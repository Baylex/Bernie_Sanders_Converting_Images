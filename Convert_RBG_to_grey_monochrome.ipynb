{
 "cells": [
  {
   "cell_type": "code",
   "execution_count": 42,
   "metadata": {},
   "outputs": [],
   "source": [
    "## This method is to show the original image and the converted image\n",
    "# Importing Image and ImageOps module from PIL package\n",
    "from PIL import Image, ImageOps\n",
    "\n",
    "# creating an og_image object\n",
    "og_image = Image.open(\"Bernie_Sanders_mittens.jpg\")\n",
    "og_image.show()\n",
    "\n",
    "# applying grayscale method\n",
    "gray_image = ImageOps.grayscale(og_image)\n",
    "gray_image.show()"
   ]
  },
  {
   "cell_type": "code",
   "execution_count": 1,
   "metadata": {},
   "outputs": [],
   "source": [
    "## This method is to save the image\n",
    "# Importing Image and ImageOps module from PIL package\n",
    "from PIL import Image, ImageOps\n",
    "\n",
    "# creating an og_image object\n",
    "og_image = Image.open(\"Bernie_Sanders_mittens.jpg\")\n",
    "\n",
    "# applying grayscale method\n",
    "gray_image = ImageOps.grayscale(og_image)\n",
    "gray_image.save('Bernie_Sanders_greyscale.png')"
   ]
  },
  {
   "cell_type": "code",
   "execution_count": 44,
   "metadata": {},
   "outputs": [],
   "source": [
    "# Alternate method using L\n",
    "# # grayImg = img.convert('L')\n",
    "\n",
    "# # Importing Image and ImageOps module from PIL package\n",
    "# from PIL import Image, ImageOps\n",
    "\n",
    "# # creating an og_image object\n",
    "# og_image = Image.open(\"Bernie_Sanders_mittens.jpg\")\n",
    "\n",
    "# # applying grayscale method\n",
    "# gray_image = og_image.convert('L')\n",
    "# gray_image.save('monochrome_Bernie_Sanders_mittens.jpg')"
   ]
  },
  {
   "cell_type": "code",
   "execution_count": 2,
   "metadata": {},
   "outputs": [],
   "source": [
    "# Convert to grey, then to black and white (monochrome)\n",
    "col = Image.open(\"Bernie_Sanders_mittens.jpg\")\n",
    "gray = col.convert('L')\n",
    "bw = gray.point(lambda x: 0 if x<128 else 255, '1')\n",
    "bw.save(\"Bernie_Sanders_monochrome.jpg\")"
   ]
  },
  {
   "cell_type": "code",
   "execution_count": null,
   "metadata": {},
   "outputs": [],
   "source": [
    "# Source: https://appdividend.com/2020/06/22/how-to-convert-pil-image-to-grayscale-in-python/"
   ]
  }
 ],
 "metadata": {
  "kernelspec": {
   "display_name": "PythonData",
   "language": "python",
   "name": "pythondata"
  },
  "language_info": {
   "codemirror_mode": {
    "name": "ipython",
    "version": 3
   },
   "file_extension": ".py",
   "mimetype": "text/x-python",
   "name": "python",
   "nbconvert_exporter": "python",
   "pygments_lexer": "ipython3",
   "version": "3.7.7"
  }
 },
 "nbformat": 4,
 "nbformat_minor": 4
}
